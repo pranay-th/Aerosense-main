{
 "cells": [
  {
   "cell_type": "code",
   "execution_count": 1,
   "metadata": {},
   "outputs": [
    {
     "name": "stdout",
     "output_type": "stream",
     "text": [
      "Collecting boto3\n",
      "  Using cached boto3-1.35.13-py3-none-any.whl.metadata (6.6 kB)\n",
      "Collecting botocore\n",
      "  Using cached botocore-1.35.13-py3-none-any.whl.metadata (5.7 kB)\n",
      "Collecting jmespath<2.0.0,>=0.7.1 (from boto3)\n",
      "  Using cached jmespath-1.0.1-py3-none-any.whl.metadata (7.6 kB)\n",
      "Collecting s3transfer<0.11.0,>=0.10.0 (from boto3)\n",
      "  Using cached s3transfer-0.10.2-py3-none-any.whl.metadata (1.7 kB)\n",
      "Requirement already satisfied: python-dateutil<3.0.0,>=2.1 in c:\\users\\singh\\onedrive\\desktop\\aerospanza-4\\.venv\\lib\\site-packages (from botocore) (2.9.0.post0)\n",
      "Collecting urllib3!=2.2.0,<3,>=1.25.4 (from botocore)\n",
      "  Downloading urllib3-2.2.2-py3-none-any.whl.metadata (6.4 kB)\n",
      "Requirement already satisfied: six>=1.5 in c:\\users\\singh\\onedrive\\desktop\\aerospanza-4\\.venv\\lib\\site-packages (from python-dateutil<3.0.0,>=2.1->botocore) (1.16.0)\n",
      "Downloading boto3-1.35.13-py3-none-any.whl (139 kB)\n",
      "   ---------------------------------------- 0.0/139.2 kB ? eta -:--:--\n",
      "   -------------------------------- ------- 112.6/139.2 kB 3.3 MB/s eta 0:00:01\n",
      "   ---------------------------------------- 139.2/139.2 kB 2.1 MB/s eta 0:00:00\n",
      "Downloading botocore-1.35.13-py3-none-any.whl (12.5 MB)\n",
      "   ---------------------------------------- 0.0/12.5 MB ? eta -:--:--\n",
      "   - -------------------------------------- 0.4/12.5 MB 13.1 MB/s eta 0:00:01\n",
      "   --- ------------------------------------ 1.1/12.5 MB 13.7 MB/s eta 0:00:01\n",
      "   ------ --------------------------------- 1.9/12.5 MB 15.3 MB/s eta 0:00:01\n",
      "   -------- ------------------------------- 2.8/12.5 MB 16.1 MB/s eta 0:00:01\n",
      "   ----------- ---------------------------- 3.7/12.5 MB 16.8 MB/s eta 0:00:01\n",
      "   -------------- ------------------------- 4.5/12.5 MB 17.0 MB/s eta 0:00:01\n",
      "   ----------------- ---------------------- 5.4/12.5 MB 17.1 MB/s eta 0:00:01\n",
      "   ------------------- -------------------- 6.2/12.5 MB 17.2 MB/s eta 0:00:01\n",
      "   ---------------------- ----------------- 7.1/12.5 MB 17.5 MB/s eta 0:00:01\n",
      "   ------------------------ --------------- 7.5/12.5 MB 17.8 MB/s eta 0:00:01\n",
      "   ------------------------ --------------- 7.5/12.5 MB 17.8 MB/s eta 0:00:01\n",
      "   ------------------------ --------------- 7.5/12.5 MB 17.8 MB/s eta 0:00:01\n",
      "   ------------------------ --------------- 7.5/12.5 MB 17.8 MB/s eta 0:00:01\n",
      "   ------------------------ --------------- 7.5/12.5 MB 17.8 MB/s eta 0:00:01\n",
      "   ------------------------ --------------- 7.5/12.5 MB 17.8 MB/s eta 0:00:01\n",
      "   ------------------------ --------------- 7.5/12.5 MB 17.8 MB/s eta 0:00:01\n",
      "   ------------------------ --------------- 7.5/12.5 MB 17.8 MB/s eta 0:00:01\n",
      "   ------------------------ --------------- 7.5/12.5 MB 17.8 MB/s eta 0:00:01\n",
      "   ------------------------ --------------- 7.5/12.5 MB 17.8 MB/s eta 0:00:01\n",
      "   ------------------------ --------------- 7.5/12.5 MB 8.2 MB/s eta 0:00:01\n",
      "   ------------------------ --------------- 7.6/12.5 MB 7.8 MB/s eta 0:00:01\n",
      "   ------------------------- -------------- 7.8/12.5 MB 8.0 MB/s eta 0:00:01\n",
      "   -------------------------- ------------- 8.3/12.5 MB 7.9 MB/s eta 0:00:01\n",
      "   -------------------------- ------------- 8.4/12.5 MB 7.7 MB/s eta 0:00:01\n",
      "   --------------------------- ------------ 8.6/12.5 MB 7.5 MB/s eta 0:00:01\n",
      "   --------------------------- ------------ 8.7/12.5 MB 7.3 MB/s eta 0:00:01\n",
      "   ---------------------------- ----------- 8.8/12.5 MB 7.1 MB/s eta 0:00:01\n",
      "   ---------------------------- ----------- 8.8/12.5 MB 7.0 MB/s eta 0:00:01\n",
      "   ---------------------------- ----------- 8.9/12.5 MB 6.7 MB/s eta 0:00:01\n",
      "   ------------------------------ --------- 9.4/12.5 MB 6.8 MB/s eta 0:00:01\n",
      "   -------------------------------- ------- 10.3/12.5 MB 7.2 MB/s eta 0:00:01\n",
      "   ----------------------------------- ---- 11.0/12.5 MB 7.3 MB/s eta 0:00:01\n",
      "   -------------------------------------- - 12.0/12.5 MB 7.3 MB/s eta 0:00:01\n",
      "   ---------------------------------------  12.5/12.5 MB 7.3 MB/s eta 0:00:01\n",
      "   ---------------------------------------- 12.5/12.5 MB 7.0 MB/s eta 0:00:00\n",
      "Downloading jmespath-1.0.1-py3-none-any.whl (20 kB)\n",
      "Downloading s3transfer-0.10.2-py3-none-any.whl (82 kB)\n",
      "   ---------------------------------------- 0.0/82.7 kB ? eta -:--:--\n",
      "   ---------------------------------------- 82.7/82.7 kB 4.5 MB/s eta 0:00:00\n",
      "Downloading urllib3-2.2.2-py3-none-any.whl (121 kB)\n",
      "   ---------------------------------------- 0.0/121.4 kB ? eta -:--:--\n",
      "   ---------------------------------------- 121.4/121.4 kB ? eta 0:00:00\n",
      "Installing collected packages: urllib3, jmespath, botocore, s3transfer, boto3\n",
      "Successfully installed boto3-1.35.13 botocore-1.35.13 jmespath-1.0.1 s3transfer-0.10.2 urllib3-2.2.2\n",
      "Note: you may need to restart the kernel to use updated packages.\n"
     ]
    },
    {
     "name": "stderr",
     "output_type": "stream",
     "text": [
      "\n",
      "[notice] A new release of pip is available: 24.0 -> 24.2\n",
      "[notice] To update, run: python.exe -m pip install --upgrade pip\n"
     ]
    }
   ],
   "source": [
    "%pip install boto3 botocore\n"
   ]
  },
  {
   "cell_type": "code",
   "execution_count": null,
   "metadata": {},
   "outputs": [],
   "source": []
  }
 ],
 "metadata": {
  "kernelspec": {
   "display_name": ".venv",
   "language": "python",
   "name": "python3"
  },
  "language_info": {
   "codemirror_mode": {
    "name": "ipython",
    "version": 3
   },
   "file_extension": ".py",
   "mimetype": "text/x-python",
   "name": "python",
   "nbconvert_exporter": "python",
   "pygments_lexer": "ipython3",
   "version": "3.11.9"
  }
 },
 "nbformat": 4,
 "nbformat_minor": 2
}
